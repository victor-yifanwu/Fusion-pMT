{
 "cells": [
  {
   "cell_type": "code",
   "execution_count": 1,
   "id": "cdab9897",
   "metadata": {
    "_cell_guid": "b1076dfc-b9ad-4769-8c92-a6c4dae69d19",
    "_uuid": "8f2839f25d086af736a60e9eeb907d3b93b6e0e5",
    "execution": {
     "iopub.execute_input": "2024-01-31T11:44:56.175938Z",
     "iopub.status.busy": "2024-01-31T11:44:56.175439Z",
     "iopub.status.idle": "2024-01-31T11:44:57.296920Z",
     "shell.execute_reply": "2024-01-31T11:44:57.295060Z"
    },
    "papermill": {
     "duration": 1.13075,
     "end_time": "2024-01-31T11:44:57.300470",
     "exception": false,
     "start_time": "2024-01-31T11:44:56.169720",
     "status": "completed"
    },
    "tags": []
   },
   "outputs": [],
   "source": [
    "import pandas as pd\n",
    "from itertools import product\n",
    "import random"
   ]
  },
  {
   "cell_type": "code",
   "execution_count": 2,
   "id": "380c0aee",
   "metadata": {
    "execution": {
     "iopub.execute_input": "2024-01-31T11:44:57.309573Z",
     "iopub.status.busy": "2024-01-31T11:44:57.309017Z",
     "iopub.status.idle": "2024-01-31T11:44:57.320526Z",
     "shell.execute_reply": "2024-01-31T11:44:57.319381Z"
    },
    "papermill": {
     "duration": 0.019789,
     "end_time": "2024-01-31T11:44:57.323716",
     "exception": false,
     "start_time": "2024-01-31T11:44:57.303927",
     "status": "completed"
    },
    "tags": []
   },
   "outputs": [],
   "source": [
    "def negative_sample(data):\n",
    "    data['Label'] = 1\n",
    "    num_existing_rows = data.shape[0]\n",
    "    num_new_rows_needed = num_existing_rows * 100\n",
    "    existing_combinations = set(zip(data['CDR3'], data['Antigen'], data['HLA']))\n",
    "    unique_CDR3 = data['CDR3'].unique()\n",
    "    unique_Antigen = data['Antigen'].unique()\n",
    "    unique_HLA = data['HLA'].unique()\n",
    "    new_data_rows = []\n",
    "    while len(new_data_rows) < num_new_rows_needed:\n",
    "        random_CDR3 = random.choice(unique_CDR3)\n",
    "        random_Antigen = random.choice(unique_Antigen)\n",
    "        random_HLA = random.choice(unique_HLA)\n",
    "        new_row = (random_CDR3, random_Antigen, random_HLA)\n",
    "        if new_row not in existing_combinations:\n",
    "            new_data_rows.append(new_row + (0,))  # Append the new row with Label=0\n",
    "            existing_combinations.add(new_row)\n",
    "    new_data = pd.DataFrame(new_data_rows, columns=data.columns)\n",
    "    return new_data\n",
    "def claensymbol(data):\n",
    "    for column in data.columns:\n",
    "        data[column] = data[column].str.replace(';', '') \n",
    "    return data"
   ]
  },
  {
   "cell_type": "code",
   "execution_count": 3,
   "id": "3d29f154",
   "metadata": {
    "execution": {
     "iopub.execute_input": "2024-01-31T11:44:57.331878Z",
     "iopub.status.busy": "2024-01-31T11:44:57.331442Z",
     "iopub.status.idle": "2024-01-31T11:45:31.782574Z",
     "shell.execute_reply": "2024-01-31T11:45:31.781132Z"
    },
    "papermill": {
     "duration": 34.459186,
     "end_time": "2024-01-31T11:45:31.786205",
     "exception": false,
     "start_time": "2024-01-31T11:44:57.327019",
     "status": "completed"
    },
    "tags": []
   },
   "outputs": [],
   "source": [
    "train = negative_sample(claensymbol(pd.read_csv('/kaggle/input/pmtnetdata/data/training_data.csv')))\n",
    "test = negative_sample(claensymbol(pd.read_csv('/kaggle/input/pmtnetdata/data/testing_data.csv')))\n",
    "train.to_csv('train_100N.csv')\n",
    "test.to_csv('test_100N.csv')"
   ]
  },
  {
   "cell_type": "code",
   "execution_count": null,
   "id": "a7217731",
   "metadata": {
    "papermill": {
     "duration": 0.002546,
     "end_time": "2024-01-31T11:45:31.791942",
     "exception": false,
     "start_time": "2024-01-31T11:45:31.789396",
     "status": "completed"
    },
    "tags": []
   },
   "outputs": [],
   "source": []
  }
 ],
 "metadata": {
  "kaggle": {
   "accelerator": "none",
   "dataSources": [
    {
     "datasetId": 4348181,
     "sourceId": 7469532,
     "sourceType": "datasetVersion"
    },
    {
     "datasetId": 4375332,
     "sourceId": 7512088,
     "sourceType": "datasetVersion"
    }
   ],
   "dockerImageVersionId": 30646,
   "isGpuEnabled": false,
   "isInternetEnabled": true,
   "language": "python",
   "sourceType": "notebook"
  },
  "kernelspec": {
   "display_name": "Python 3",
   "language": "python",
   "name": "python3"
  },
  "language_info": {
   "codemirror_mode": {
    "name": "ipython",
    "version": 3
   },
   "file_extension": ".py",
   "mimetype": "text/x-python",
   "name": "python",
   "nbconvert_exporter": "python",
   "pygments_lexer": "ipython3",
   "version": "3.10.13"
  },
  "papermill": {
   "default_parameters": {},
   "duration": 39.565338,
   "end_time": "2024-01-31T11:45:32.418834",
   "environment_variables": {},
   "exception": null,
   "input_path": "__notebook__.ipynb",
   "output_path": "__notebook__.ipynb",
   "parameters": {},
   "start_time": "2024-01-31T11:44:52.853496",
   "version": "2.5.0"
  }
 },
 "nbformat": 4,
 "nbformat_minor": 5
}

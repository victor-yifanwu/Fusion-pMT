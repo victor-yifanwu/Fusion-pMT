{
 "cells": [
  {
   "cell_type": "code",
   "execution_count": 1,
   "id": "7e029a29",
   "metadata": {
    "_cell_guid": "b1076dfc-b9ad-4769-8c92-a6c4dae69d19",
    "_uuid": "8f2839f25d086af736a60e9eeb907d3b93b6e0e5",
    "execution": {
     "iopub.execute_input": "2024-08-13T15:20:14.061936Z",
     "iopub.status.busy": "2024-08-13T15:20:14.061340Z",
     "iopub.status.idle": "2024-08-13T15:23:59.526123Z",
     "shell.execute_reply": "2024-08-13T15:23:59.525021Z"
    },
    "papermill": {
     "duration": 225.471618,
     "end_time": "2024-08-13T15:23:59.528816",
     "exception": false,
     "start_time": "2024-08-13T15:20:14.057198",
     "status": "completed"
    },
    "tags": []
   },
   "outputs": [],
   "source": [
    "import pandas as pd\n",
    "import numpy as np\n",
    "\n",
    "atchley_factors_df = pd.read_csv('/kaggle/input/pmtnetdata/library/Atchley_factors.csv')\n",
    "atchley_factors = {row['Amino acid']: row[1:].values for _, row in atchley_factors_df.iterrows()}\n",
    "\n",
    "def encode_cdr3(cdr3_sequence, atchley_factors):\n",
    "    encoded = np.zeros((20, 5))  \n",
    "    for i, aa in enumerate(cdr3_sequence[:20]):  \n",
    "        if aa in atchley_factors:\n",
    "            encoded[i] = atchley_factors[aa]\n",
    "    return encoded.flatten()  \n",
    "\n",
    "cdr3_df = pd.read_csv('/kaggle/input/pos-neg-tcrbinding/pos_training.csv')\n",
    "encoded_cdr3s = cdr3_df['CDR3'].apply(lambda x: encode_cdr3(x, atchley_factors))\n",
    "encoded_cdr3_df = pd.DataFrame(encoded_cdr3s.tolist(), columns=[f'TCR_{i}' for i in range(100)])\n",
    "HLA_train = pd.read_csv('/kaggle/input/pmtnet-dataem/MHC_antigen_output.csv')\n",
    "df_train_pos = pd.concat([encoded_cdr3_df,HLA_train], axis=1)\n",
    "df_train_pos['label'] = 1\n",
    "df_train_pos.to_csv('train_pos.csv')\n",
    "\n",
    "cdr3_df = pd.read_csv('/kaggle/input/pos-neg-tcrbinding/neg_training.csv')\n",
    "encoded_cdr3s = cdr3_df['CDR3'].apply(lambda x: encode_cdr3(x, atchley_factors))\n",
    "encoded_cdr3_df = pd.DataFrame(encoded_cdr3s.tolist(), columns=[f'TCR_{i}' for i in range(100)])\n",
    "df_train_neg = pd.concat([encoded_cdr3_df,HLA_train], axis=1)\n",
    "df_train_neg['label'] = 0\n",
    "df_train_neg.to_csv('train_neg.csv')\n",
    "df_train = pd.concat([df_train_pos,df_train_neg], axis=0)\n",
    "df_train.reset_index(drop=True, inplace=True)\n",
    "df_train.to_csv('train.csv')"
   ]
  },
  {
   "cell_type": "code",
   "execution_count": 2,
   "id": "810f772e",
   "metadata": {
    "execution": {
     "iopub.execute_input": "2024-08-13T15:23:59.534608Z",
     "iopub.status.busy": "2024-08-13T15:23:59.534273Z",
     "iopub.status.idle": "2024-08-13T15:25:19.593800Z",
     "shell.execute_reply": "2024-08-13T15:25:19.592812Z"
    },
    "papermill": {
     "duration": 80.064975,
     "end_time": "2024-08-13T15:25:19.596249",
     "exception": false,
     "start_time": "2024-08-13T15:23:59.531274",
     "status": "completed"
    },
    "tags": []
   },
   "outputs": [],
   "source": [
    "dr3_df = pd.read_csv('/kaggle/input/pmtnetdata/data/testing_data.csv')\n",
    "encoded_cdr3s = cdr3_df['CDR3'].apply(lambda x: encode_cdr3(x, atchley_factors))\n",
    "encoded_cdr3_df = pd.DataFrame(encoded_cdr3s.tolist(), columns=[f'TCR_{i}' for i in range(100)])\n",
    "HLA_train = pd.read_csv('/kaggle/input/pmtnet-dataem/MHC_antigen_test.csv')\n",
    "df_test_pos = pd.concat([encoded_cdr3_df,HLA_train], axis=1)\n",
    "df_test_pos['label'] = 1\n",
    "df_test_pos.to_csv('test_pos.csv')\n",
    "\n",
    "cdr3_df = pd.read_csv('/kaggle/input/pos-neg-tcrbinding/test_neg.csv')\n",
    "encoded_cdr3s = cdr3_df['CDR3'].apply(lambda x: encode_cdr3(x, atchley_factors))\n",
    "encoded_cdr3_df = pd.DataFrame(encoded_cdr3s.tolist(), columns=[f'TCR_{i}' for i in range(100)])\n",
    "df_test_neg = pd.concat([encoded_cdr3_df,HLA_train], axis=1)\n",
    "df_test_neg['label'] = 0\n",
    "df_test_neg.to_csv('test_neg.csv')\n",
    "df_test = pd.concat([df_test_pos,df_test_neg], axis=0)\n",
    "df_test.reset_index(drop=True, inplace=True)\n",
    "df_test.to_csv('test.csv')"
   ]
  },
  {
   "cell_type": "code",
   "execution_count": 3,
   "id": "82aeced0",
   "metadata": {
    "execution": {
     "iopub.execute_input": "2024-08-13T15:25:19.601415Z",
     "iopub.status.busy": "2024-08-13T15:25:19.601107Z",
     "iopub.status.idle": "2024-08-13T15:25:24.076910Z",
     "shell.execute_reply": "2024-08-13T15:25:24.075872Z"
    },
    "papermill": {
     "duration": 4.481115,
     "end_time": "2024-08-13T15:25:24.079411",
     "exception": false,
     "start_time": "2024-08-13T15:25:19.598296",
     "status": "completed"
    },
    "tags": []
   },
   "outputs": [],
   "source": [
    "cdr3_df = pd.read_csv('/kaggle/input/pos-neg-tcrbinding/Independent_Test_Pos.csv')\n",
    "encoded_cdr3s = cdr3_df['CDR3'].apply(lambda x: encode_cdr3(x, atchley_factors))\n",
    "encoded_cdr3_df = pd.DataFrame(encoded_cdr3s.tolist(), columns=[f'TCR_{i}' for i in range(100)])\n",
    "HLA_train = pd.read_csv('/kaggle/input/pmtnet-dataem/MHC_antigen_Independent.csv')\n",
    "df_test_pos = pd.concat([encoded_cdr3_df,HLA_train], axis=1)\n",
    "df_test_pos['label'] = 1\n",
    "df_test_pos.to_csv('test_pos.csv')\n",
    "\n",
    "cdr3_df = pd.read_csv('/kaggle/input/pos-neg-tcrbinding/Independent_Test_Neg.csv')\n",
    "encoded_cdr3s = cdr3_df['CDR3'].apply(lambda x: encode_cdr3(x, atchley_factors))\n",
    "encoded_cdr3_df = pd.DataFrame(encoded_cdr3s.tolist(), columns=[f'TCR_{i}' for i in range(100)])\n",
    "df_test_neg = pd.concat([encoded_cdr3_df,HLA_train], axis=1)\n",
    "df_test_neg['label'] = 0\n",
    "df_test_neg.to_csv('test_neg.csv')\n",
    "df_test = pd.concat([df_test_pos,df_test_neg], axis=0)\n",
    "df_test.reset_index(drop=True, inplace=True)\n",
    "df_test.to_csv('independent_test.csv')"
   ]
  }
 ],
 "metadata": {
  "kaggle": {
   "accelerator": "none",
   "dataSources": [
    {
     "datasetId": 4348181,
     "sourceId": 7469532,
     "sourceType": "datasetVersion"
    },
    {
     "datasetId": 4444302,
     "sourceId": 9156998,
     "sourceType": "datasetVersion"
    },
    {
     "sourceId": 192291542,
     "sourceType": "kernelVersion"
    }
   ],
   "dockerImageVersionId": 30664,
   "isGpuEnabled": false,
   "isInternetEnabled": true,
   "language": "python",
   "sourceType": "notebook"
  },
  "kernelspec": {
   "display_name": "Python 3",
   "language": "python",
   "name": "python3"
  },
  "language_info": {
   "codemirror_mode": {
    "name": "ipython",
    "version": 3
   },
   "file_extension": ".py",
   "mimetype": "text/x-python",
   "name": "python",
   "nbconvert_exporter": "python",
   "pygments_lexer": "ipython3",
   "version": "3.10.13"
  },
  "papermill": {
   "default_parameters": {},
   "duration": 312.97915,
   "end_time": "2024-08-13T15:25:24.501422",
   "environment_variables": {},
   "exception": null,
   "input_path": "__notebook__.ipynb",
   "output_path": "__notebook__.ipynb",
   "parameters": {},
   "start_time": "2024-08-13T15:20:11.522272",
   "version": "2.5.0"
  }
 },
 "nbformat": 4,
 "nbformat_minor": 5
}
